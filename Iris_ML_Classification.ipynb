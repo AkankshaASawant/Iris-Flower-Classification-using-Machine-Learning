{
 "cells": [
  {
   "cell_type": "markdown",
   "id": "bb9c9a49",
   "metadata": {},
   "source": [
    "# Iris Flower Classification using Machine Learning\n",
    "\n",
    "The workflow for the Iris classification problem:\n",
    "1. Load data and quick EDA  \n",
    "2. Preprocessing with scikit-learn Pipeline  \n",
    "3. Model comparison with cross-validation  \n",
    "4. Hyperparameter tuning example (Random Forest)  \n",
    "5. Final evaluation and model persistence  \n"
   ]
  },
  {
   "cell_type": "code",
   "execution_count": null,
   "id": "b795da43",
   "metadata": {},
   "outputs": [],
   "source": [
    "# Step 1 — Imports necessary libraries\n",
    "import numpy as np\n",
    "import pandas as pd\n",
    "import matplotlib.pyplot as plt\n",
    "\n",
    "from sklearn.datasets import load_iris\n",
    "from sklearn.model_selection import train_test_split, StratifiedKFold, cross_val_score, GridSearchCV\n",
    "from sklearn.preprocessing import StandardScaler\n",
    "from sklearn.pipeline import Pipeline\n",
    "from sklearn.impute import SimpleImputer\n",
    "from sklearn.linear_model import LogisticRegression\n",
    "from sklearn.ensemble import RandomForestClassifier\n",
    "from sklearn.svm import SVC\n",
    "from sklearn.metrics import classification_report, confusion_matrix, accuracy_score\n",
    "import joblib\n",
    "\n",
    "RANDOM_STATE = 42\n"
   ]
  },
  {
   "cell_type": "code",
   "execution_count": null,
   "id": "db203c20",
   "metadata": {},
   "outputs": [
    {
     "name": "stdout",
     "output_type": "stream",
     "text": [
      "Shape: (150, 5)\n",
      "Statistical Summary:        sepal length (cm)  sepal width (cm)  petal length (cm)  \\\n",
      "count         150.000000        150.000000         150.000000   \n",
      "mean            5.843333          3.057333           3.758000   \n",
      "std             0.828066          0.435866           1.765298   \n",
      "min             4.300000          2.000000           1.000000   \n",
      "25%             5.100000          2.800000           1.600000   \n",
      "50%             5.800000          3.000000           4.350000   \n",
      "75%             6.400000          3.300000           5.100000   \n",
      "max             7.900000          4.400000           6.900000   \n",
      "\n",
      "       petal width (cm)      target  \n",
      "count        150.000000  150.000000  \n",
      "mean           1.199333    1.000000  \n",
      "std            0.762238    0.819232  \n",
      "min            0.100000    0.000000  \n",
      "25%            0.300000    0.000000  \n",
      "50%            1.300000    1.000000  \n",
      "75%            1.800000    2.000000  \n",
      "max            2.500000    2.000000  \n",
      "\n",
      "Class distribution:\n",
      "target\n",
      "0    50\n",
      "1    50\n",
      "2    50\n",
      "Name: count, dtype: int64\n"
     ]
    },
    {
     "data": {
      "text/html": [
       "<div>\n",
       "<style scoped>\n",
       "    .dataframe tbody tr th:only-of-type {\n",
       "        vertical-align: middle;\n",
       "    }\n",
       "\n",
       "    .dataframe tbody tr th {\n",
       "        vertical-align: top;\n",
       "    }\n",
       "\n",
       "    .dataframe thead th {\n",
       "        text-align: right;\n",
       "    }\n",
       "</style>\n",
       "<table border=\"1\" class=\"dataframe\">\n",
       "  <thead>\n",
       "    <tr style=\"text-align: right;\">\n",
       "      <th></th>\n",
       "      <th>sepal length (cm)</th>\n",
       "      <th>sepal width (cm)</th>\n",
       "      <th>petal length (cm)</th>\n",
       "      <th>petal width (cm)</th>\n",
       "      <th>target</th>\n",
       "    </tr>\n",
       "  </thead>\n",
       "  <tbody>\n",
       "    <tr>\n",
       "      <th>0</th>\n",
       "      <td>5.1</td>\n",
       "      <td>3.5</td>\n",
       "      <td>1.4</td>\n",
       "      <td>0.2</td>\n",
       "      <td>0</td>\n",
       "    </tr>\n",
       "    <tr>\n",
       "      <th>1</th>\n",
       "      <td>4.9</td>\n",
       "      <td>3.0</td>\n",
       "      <td>1.4</td>\n",
       "      <td>0.2</td>\n",
       "      <td>0</td>\n",
       "    </tr>\n",
       "    <tr>\n",
       "      <th>2</th>\n",
       "      <td>4.7</td>\n",
       "      <td>3.2</td>\n",
       "      <td>1.3</td>\n",
       "      <td>0.2</td>\n",
       "      <td>0</td>\n",
       "    </tr>\n",
       "    <tr>\n",
       "      <th>3</th>\n",
       "      <td>4.6</td>\n",
       "      <td>3.1</td>\n",
       "      <td>1.5</td>\n",
       "      <td>0.2</td>\n",
       "      <td>0</td>\n",
       "    </tr>\n",
       "    <tr>\n",
       "      <th>4</th>\n",
       "      <td>5.0</td>\n",
       "      <td>3.6</td>\n",
       "      <td>1.4</td>\n",
       "      <td>0.2</td>\n",
       "      <td>0</td>\n",
       "    </tr>\n",
       "  </tbody>\n",
       "</table>\n",
       "</div>"
      ],
      "text/plain": [
       "   sepal length (cm)  sepal width (cm)  petal length (cm)  petal width (cm)  \\\n",
       "0                5.1               3.5                1.4               0.2   \n",
       "1                4.9               3.0                1.4               0.2   \n",
       "2                4.7               3.2                1.3               0.2   \n",
       "3                4.6               3.1                1.5               0.2   \n",
       "4                5.0               3.6                1.4               0.2   \n",
       "\n",
       "   target  \n",
       "0       0  \n",
       "1       0  \n",
       "2       0  \n",
       "3       0  \n",
       "4       0  "
      ]
     },
     "execution_count": 3,
     "metadata": {},
     "output_type": "execute_result"
    }
   ],
   "source": [
    "# Step 2 — Load dataset and quick EDA\n",
    "data = load_iris(as_frame=True)\n",
    "df = data.frame.copy()   # feature columns + target\n",
    "df['target'] = data.target\n",
    "\n",
    "# Quick checks\n",
    "print('Shape:', df.shape)\n",
    "print('Statistical Summary:', df.describe())\n",
    "print('\\nClass distribution:')\n",
    "print(df['target'].value_counts(sort=False))\n",
    "\n",
    "# show first 5 rows \n",
    "df.head()\n"
   ]
  },
  {
   "cell_type": "code",
   "execution_count": 4,
   "id": "3f211655",
   "metadata": {},
   "outputs": [],
   "source": [
    "# Step 3 — Preprocessing and train/test split\n",
    "X = df.drop(columns=['target'])\n",
    "y = df['target']\n",
    "\n",
    "X_train, X_test, y_train, y_test = train_test_split(\n",
    "    X, y, test_size=0.2, stratify=y, random_state=RANDOM_STATE\n",
    ")\n",
    "\n",
    "numeric_pipeline = Pipeline([\n",
    "    ('imputer', SimpleImputer(strategy='median')),\n",
    "    ('scaler', StandardScaler())\n",
    "])\n"
   ]
  },
  {
   "cell_type": "code",
   "execution_count": 4,
   "id": "91143c71",
   "metadata": {},
   "outputs": [],
   "source": [
    "# Step 4 — Define model pipelines to compare\n",
    "models = {\n",
    "    'logreg': Pipeline([('preproc', numeric_pipeline),\n",
    "                        ('clf', LogisticRegression(random_state=RANDOM_STATE, max_iter=1000))]),\n",
    "    'rf': Pipeline([('preproc', numeric_pipeline),\n",
    "                    ('clf', RandomForestClassifier(random_state=RANDOM_STATE))]),\n",
    "    'svc': Pipeline([('preproc', numeric_pipeline),\n",
    "                     ('clf', SVC(probability=True, random_state=RANDOM_STATE))]),\n",
    "}\n"
   ]
  },
  {
   "cell_type": "code",
   "execution_count": 5,
   "id": "279a74dc",
   "metadata": {},
   "outputs": [
    {
     "name": "stdout",
     "output_type": "stream",
     "text": [
      "logreg — mean accuracy: 0.958  (std: 0.026)\n",
      "rf     — mean accuracy: 0.950  (std: 0.031)\n",
      "svc    — mean accuracy: 0.967  (std: 0.017)\n"
     ]
    }
   ],
   "source": [
    "# Step 5 — Quick cross-validation to compare algorithms\n",
    "cv = StratifiedKFold(n_splits=5, shuffle=True, random_state=RANDOM_STATE)\n",
    "\n",
    "for name, pipe in models.items():\n",
    "    scores = cross_val_score(pipe, X_train, y_train, cv=cv, scoring='accuracy', n_jobs=-1)\n",
    "    print(f\"{name:6s} — mean accuracy: {scores.mean():.3f}  (std: {scores.std():.3f})\")\n"
   ]
  },
  {
   "cell_type": "code",
   "execution_count": 6,
   "id": "982d6e75",
   "metadata": {},
   "outputs": [
    {
     "name": "stdout",
     "output_type": "stream",
     "text": [
      "Best params: {'clf__max_depth': None, 'clf__min_samples_split': 4, 'clf__n_estimators': 50}\n",
      "Best CV score: 0.9666666666666668\n"
     ]
    }
   ],
   "source": [
    "# Step 6 — Hyperparameter tuning example for RandomForest\n",
    "param_grid = {\n",
    "    'clf__n_estimators': [50, 100, 200],\n",
    "    'clf__max_depth': [None, 3, 5, 10],\n",
    "    'clf__min_samples_split': [2, 4, 8]\n",
    "}\n",
    "\n",
    "gs = GridSearchCV(models['rf'], param_grid, cv=cv, scoring='accuracy', n_jobs=-1)\n",
    "gs.fit(X_train, y_train)\n",
    "\n",
    "print('Best params:', gs.best_params_)\n",
    "print('Best CV score:', gs.best_score_)\n",
    "\n",
    "best_model = gs.best_estimator_\n"
   ]
  },
  {
   "cell_type": "code",
   "execution_count": 7,
   "id": "a8318c32",
   "metadata": {},
   "outputs": [
    {
     "name": "stdout",
     "output_type": "stream",
     "text": [
      "Test accuracy: 0.9333333333333333\n",
      "\n",
      "Classification report:\n",
      "              precision    recall  f1-score   support\n",
      "\n",
      "      setosa       1.00      1.00      1.00        10\n",
      "  versicolor       0.90      0.90      0.90        10\n",
      "   virginica       0.90      0.90      0.90        10\n",
      "\n",
      "    accuracy                           0.93        30\n",
      "   macro avg       0.93      0.93      0.93        30\n",
      "weighted avg       0.93      0.93      0.93        30\n",
      "\n"
     ]
    },
    {
     "data": {
      "image/png": "[encoded data removed]",
      "text/plain": [
       "<Figure size 500x400 with 2 Axes>"
      ]
     },
     "metadata": {},
     "output_type": "display_data"
    }
   ],
   "source": [
    "# Step 7 — Evaluation on the test set\n",
    "y_pred = best_model.predict(X_test)\n",
    "\n",
    "print('Test accuracy:', accuracy_score(y_test, y_pred))\n",
    "print('\\nClassification report:')\n",
    "print(classification_report(y_test, y_pred, target_names=data.target_names))\n",
    "\n",
    "cm = confusion_matrix(y_test, y_pred)\n",
    "# Plot confusion matrix with matplotlib (one plot — no seaborn)\n",
    "plt.figure(figsize=(5,4))\n",
    "plt.imshow(cm, interpolation='nearest')\n",
    "plt.title('Confusion matrix')\n",
    "plt.xlabel('Predicted label')\n",
    "plt.ylabel('True label')\n",
    "plt.colorbar()\n",
    "plt.xticks(range(len(data.target_names)), data.target_names, rotation=45)\n",
    "plt.yticks(range(len(data.target_names)), data.target_names)\n",
    "plt.tight_layout()\n",
    "plt.show()\n"
   ]
  },
  {
   "cell_type": "code",
   "execution_count": 8,
   "id": "0b4bc237",
   "metadata": {},
   "outputs": [
    {
     "name": "stdout",
     "output_type": "stream",
     "text": [
      "Model saved to iris_best_model.joblib\n"
     ]
    }
   ],
   "source": [
    "# Step 8 — Persist the best model for later use\n",
    "model_filename = 'iris_best_model.joblib'\n",
    "joblib.dump(best_model, model_filename)\n",
    "print(f'Model saved to {model_filename}')\n"
   ]
  }
 ],
 "metadata": {
  "kernelspec": {
   "display_name": "Python 3",
   "language": "python",
   "name": "python3"
  },
  "language_info": {
   "codemirror_mode": {
    "name": "ipython",
    "version": 3
   },
   "file_extension": ".py",
   "mimetype": "text/x-python",
   "name": "python",
   "nbconvert_exporter": "python",
   "pygments_lexer": "ipython3",
   "version": "3.12.3"
  }
 },
 "nbformat": 4,
 "nbformat_minor": 5
}
